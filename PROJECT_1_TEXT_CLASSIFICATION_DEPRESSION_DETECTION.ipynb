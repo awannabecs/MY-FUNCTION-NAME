{
  "nbformat": 4,
  "nbformat_minor": 0,
  "metadata": {
    "colab": {
      "name": "PROJECT_1_TEXT_CLASSIFICATION_DEPRESSION_DETECTION.ipynb",
      "provenance": [],
      "collapsed_sections": [],
      "mount_file_id": "1AfMChGKAGypx0jZHb1w8Rk4TKW18_IqJ",
      "authorship_tag": "ABX9TyOGCqhgxwWdMlBFsIEb6qWr",
      "include_colab_link": true
    },
    "kernelspec": {
      "name": "python3",
      "display_name": "Python 3"
    },
    "language_info": {
      "name": "python"
    }
  },
  "cells": [
    {
      "cell_type": "markdown",
      "metadata": {
        "id": "view-in-github",
        "colab_type": "text"
      },
      "source": [
        "<a href=\"https://colab.research.google.com/github/awannabecs/MY-FUNCTION-NAME/blob/main/PROJECT_1_TEXT_CLASSIFICATION_DEPRESSION_DETECTION.ipynb\" target=\"_parent\"><img src=\"https://colab.research.google.com/assets/colab-badge.svg\" alt=\"Open In Colab\"/></a>"
      ]
    },
    {
      "cell_type": "code",
      "execution_count": 9,
      "metadata": {
        "colab": {
          "base_uri": "https://localhost:8080/",
          "height": 71
        },
        "id": "f22i0WcfXOdv",
        "outputId": "287a0c3c-c984-41b6-bf3b-810baecde281"
      },
      "outputs": [
        {
          "output_type": "stream",
          "name": "stderr",
          "text": [
            "[nltk_data] Downloading package punkt to /root/nltk_data...\n",
            "[nltk_data]   Package punkt is already up-to-date!\n"
          ]
        },
        {
          "output_type": "execute_result",
          "data": {
            "text/plain": [
              "'play'"
            ],
            "application/vnd.google.colaboratory.intrinsic+json": {
              "type": "string"
            }
          },
          "metadata": {},
          "execution_count": 9
        }
      ],
      "source": [
        "#import the libraries \n",
        "import numpy as  np\n",
        "import pandas as pd \n",
        "import tensorflow as tf\n",
        "import nltk \n",
        "import re\n",
        "nltk.download(\"punkt\")\n",
        "tokenizer = nltk.word_tokenize\n",
        "tokenizer(\"go out\")\n",
        "stemmer = nltk.PorterStemmer().stem\n",
        "stemmer(\"played\")"
      ]
    },
    {
      "cell_type": "code",
      "source": [
        "#import the dataset\n",
        "df = pd.read_csv(\"/content/drive/MyDrive/MAIN_DATA\")"
      ],
      "metadata": {
        "id": "fxtuuIv5X611"
      },
      "execution_count": 10,
      "outputs": []
    },
    {
      "cell_type": "code",
      "source": [
        "#create the word2number dictionary\n",
        "tokens = []\n",
        "for i in range(len(df)):\n",
        "  words = []\n",
        "  try:\n",
        "    words.extend(tokenizer(df.iloc[i][\"text\"].lower()))\n",
        "    for word in words:\n",
        "      word = word\n",
        "      tokens.append(stemmer(word))\n",
        "  except Exception as e:\n",
        "    print(df.iloc[i][\"text\"])\n",
        "\n",
        "tokens = set(tokens)"
      ],
      "metadata": {
        "colab": {
          "base_uri": "https://localhost:8080/"
        },
        "id": "zbrKAVxQbBKk",
        "outputId": "8f698617-e0e3-4ded-9cec-7fee4d664225"
      },
      "execution_count": 11,
      "outputs": [
        {
          "output_type": "stream",
          "name": "stdout",
          "text": [
            "nan\n",
            "nan\n",
            "nan\n",
            "nan\n",
            "nan\n"
          ]
        }
      ]
    },
    {
      "cell_type": "code",
      "source": [
        "somelist = [\" '//twitter.com/ltsharrypotter/status/984475138933579782',\", '//t.co/yacazn2t0h',\n",
        "            \"dk_mok\", '70+hour', 'much|1|0|4|', 'collection|1|0|3|',\"20\",]\n",
        "pattern = \"\"\"\\/?\\/?twitter.com/.+|\n",
        "\\/?\\/?t.co\\/?.+|  \n",
        "_|\n",
        "\\d+|\n",
        "\\|d\\|\\d\\|\\d|\n",
        "\"\"\"\n",
        "for word in somelist:\n",
        "  word = re.sub(pattern,\"\",word)\n",
        "  print(word)"
      ],
      "metadata": {
        "colab": {
          "base_uri": "https://localhost:8080/"
        },
        "id": "DrbpeNfqbZZn",
        "outputId": "a83e6171-883e-4a6e-9bd8-e09ca3b2071d"
      },
      "execution_count": 12,
      "outputs": [
        {
          "output_type": "stream",
          "name": "stdout",
          "text": [
            " '\n",
            "//t.co/yacazn2t0h\n",
            "dk_mok\n",
            "70+hour\n",
            "much|1|0|4|\n",
            "collection|1|0|3|\n",
            "20\n"
          ]
        }
      ]
    },
    {
      "cell_type": "code",
      "source": [
        "token2index_dict = {\"OOV\":0}\n",
        "index2token_dict = {0:\"OOV\"}\n",
        "for index,token in enumerate(tokens):\n",
        "  token2index_dict[token] = index+1\n",
        "  index2token_dict[index+1] = token"
      ],
      "metadata": {
        "id": "3YagIXVaqgCo"
      },
      "execution_count": 25,
      "outputs": []
    },
    {
      "cell_type": "code",
      "source": [
        "def token2index_function(dict,token):\n",
        "  return dict.get(token,0)\n",
        "\n",
        "def index2token_function(dict,index):\n",
        "  return dict.get(index,\"OOV\")"
      ],
      "metadata": {
        "id": "tf4ViBifw9lI"
      },
      "execution_count": 31,
      "outputs": []
    },
    {
      "cell_type": "code",
      "source": [
        "#make the sentences same-lengthed \n",
        "#find the max length"
      ],
      "metadata": {
        "id": "9GRKoCLy0W6f"
      },
      "execution_count": null,
      "outputs": []
    },
    {
      "cell_type": "code",
      "source": [
        "tf.random.set_seed(666)\n",
        "model1 = tf.keras.Sequential()\n",
        "model1.add(tf.keras.layers.Dense(1),activation_function=\"relu\")\n",
        "model1.add(tf.keras.layers.Dense(1),activation_function=\"relu\")\n",
        "model1.add(tf.keras.layers.Dense(1),activation_function=\"relu\")"
      ],
      "metadata": {
        "id": "7bq22Qhmy3Fm"
      },
      "execution_count": 40,
      "outputs": []
    }
  ]
}