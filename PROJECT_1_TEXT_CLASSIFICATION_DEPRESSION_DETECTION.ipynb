{
  "nbformat": 4,
  "nbformat_minor": 0,
  "metadata": {
    "colab": {
      "name": "PROJECT_1_TEXT_CLASSIFICATION_DEPRESSION_DETECTION.ipynb",
      "provenance": [],
      "collapsed_sections": [],
      "mount_file_id": "1AfMChGKAGypx0jZHb1w8Rk4TKW18_IqJ",
      "authorship_tag": "ABX9TyMlcWG51OVFDvmoOagtz7PJ",
      "include_colab_link": true
    },
    "kernelspec": {
      "name": "python3",
      "display_name": "Python 3"
    },
    "language_info": {
      "name": "python"
    }
  },
  "cells": [
    {
      "cell_type": "markdown",
      "metadata": {
        "id": "view-in-github",
        "colab_type": "text"
      },
      "source": [
        "<a href=\"https://colab.research.google.com/github/awannabecs/MY-FUNCTION-NAME/blob/main/PROJECT_1_TEXT_CLASSIFICATION_DEPRESSION_DETECTION.ipynb\" target=\"_parent\"><img src=\"https://colab.research.google.com/assets/colab-badge.svg\" alt=\"Open In Colab\"/></a>"
      ]
    },
    {
      "cell_type": "code",
      "execution_count": 1,
      "metadata": {
        "colab": {
          "base_uri": "https://localhost:8080/",
          "height": 71
        },
        "id": "f22i0WcfXOdv",
        "outputId": "74146d9a-08a0-4a1d-bd08-3a746a5f6164"
      },
      "outputs": [
        {
          "output_type": "stream",
          "name": "stderr",
          "text": [
            "[nltk_data] Downloading package punkt to /root/nltk_data...\n",
            "[nltk_data]   Unzipping tokenizers/punkt.zip.\n"
          ]
        },
        {
          "output_type": "execute_result",
          "data": {
            "text/plain": [
              "'play'"
            ],
            "application/vnd.google.colaboratory.intrinsic+json": {
              "type": "string"
            }
          },
          "metadata": {},
          "execution_count": 1
        }
      ],
      "source": [
        "#import the libraries \n",
        "import numpy as  np\n",
        "import pandas as pd \n",
        "import tensorflow as tf\n",
        "import nltk \n",
        "import re\n",
        "import matplotlib.pyplot as plt \n",
        "nltk.download(\"punkt\")\n",
        "tokenizer = nltk.word_tokenize\n",
        "tokenizer(\"go out\")\n",
        "stemmer = nltk.PorterStemmer().stem\n",
        "stemmer(\"played\")"
      ]
    },
    {
      "cell_type": "code",
      "source": [
        "#import the dataset\n",
        "df = pd.read_csv(\"/content/drive/MyDrive/MAIN_DATA\")\n",
        "df.dropna(inplace=False)"
      ],
      "metadata": {
        "id": "fxtuuIv5X611",
        "colab": {
          "base_uri": "https://localhost:8080/",
          "height": 424
        },
        "outputId": "9361c0c1-0d29-47f0-a299-55b5a3ff89e8"
      },
      "execution_count": 4,
      "outputs": [
        {
          "output_type": "execute_result",
          "data": {
            "text/plain": [
              "      Unnamed: 0  Unnamed: 0.1  depressed  \\\n",
              "0              0           0.0        0.0   \n",
              "1              1           1.0        0.0   \n",
              "2              2           2.0        1.0   \n",
              "3              3           3.0        1.0   \n",
              "4              4           4.0        0.0   \n",
              "...          ...           ...        ...   \n",
              "1790         178        1210.0        1.0   \n",
              "1791         179        1212.0        1.0   \n",
              "1792         180        1233.0        1.0   \n",
              "1793         181        1234.0        1.0   \n",
              "1794         182        1250.0        1.0   \n",
              "\n",
              "                                                   text  \n",
              "0                 I know where you're coming from mate.  \n",
              "1                           I felt like this last year.  \n",
              "2     I remember around this time last year, i was h...  \n",
              "3     i was heavily addicted to meth, it was literal...  \n",
              "4     I worked like 70+hours in a warehouse job, 2 h...  \n",
              "...                                                 ...  \n",
              "1790                                  hate shattered me  \n",
              "1791   but I know depression and drug addiction don'...  \n",
              "1792   I feel a lot of deeply depressed souls have d...  \n",
              "1793            anxiety and mental breakdowns...|0|0|0|  \n",
              "1794                         learn to deal w my anxiety  \n",
              "\n",
              "[1790 rows x 4 columns]"
            ],
            "text/html": [
              "\n",
              "  <div id=\"df-1d02aae8-3ac2-463c-b5f3-8025744da7c6\">\n",
              "    <div class=\"colab-df-container\">\n",
              "      <div>\n",
              "<style scoped>\n",
              "    .dataframe tbody tr th:only-of-type {\n",
              "        vertical-align: middle;\n",
              "    }\n",
              "\n",
              "    .dataframe tbody tr th {\n",
              "        vertical-align: top;\n",
              "    }\n",
              "\n",
              "    .dataframe thead th {\n",
              "        text-align: right;\n",
              "    }\n",
              "</style>\n",
              "<table border=\"1\" class=\"dataframe\">\n",
              "  <thead>\n",
              "    <tr style=\"text-align: right;\">\n",
              "      <th></th>\n",
              "      <th>Unnamed: 0</th>\n",
              "      <th>Unnamed: 0.1</th>\n",
              "      <th>depressed</th>\n",
              "      <th>text</th>\n",
              "    </tr>\n",
              "  </thead>\n",
              "  <tbody>\n",
              "    <tr>\n",
              "      <th>0</th>\n",
              "      <td>0</td>\n",
              "      <td>0.0</td>\n",
              "      <td>0.0</td>\n",
              "      <td>I know where you're coming from mate.</td>\n",
              "    </tr>\n",
              "    <tr>\n",
              "      <th>1</th>\n",
              "      <td>1</td>\n",
              "      <td>1.0</td>\n",
              "      <td>0.0</td>\n",
              "      <td>I felt like this last year.</td>\n",
              "    </tr>\n",
              "    <tr>\n",
              "      <th>2</th>\n",
              "      <td>2</td>\n",
              "      <td>2.0</td>\n",
              "      <td>1.0</td>\n",
              "      <td>I remember around this time last year, i was h...</td>\n",
              "    </tr>\n",
              "    <tr>\n",
              "      <th>3</th>\n",
              "      <td>3</td>\n",
              "      <td>3.0</td>\n",
              "      <td>1.0</td>\n",
              "      <td>i was heavily addicted to meth, it was literal...</td>\n",
              "    </tr>\n",
              "    <tr>\n",
              "      <th>4</th>\n",
              "      <td>4</td>\n",
              "      <td>4.0</td>\n",
              "      <td>0.0</td>\n",
              "      <td>I worked like 70+hours in a warehouse job, 2 h...</td>\n",
              "    </tr>\n",
              "    <tr>\n",
              "      <th>...</th>\n",
              "      <td>...</td>\n",
              "      <td>...</td>\n",
              "      <td>...</td>\n",
              "      <td>...</td>\n",
              "    </tr>\n",
              "    <tr>\n",
              "      <th>1790</th>\n",
              "      <td>178</td>\n",
              "      <td>1210.0</td>\n",
              "      <td>1.0</td>\n",
              "      <td>hate shattered me</td>\n",
              "    </tr>\n",
              "    <tr>\n",
              "      <th>1791</th>\n",
              "      <td>179</td>\n",
              "      <td>1212.0</td>\n",
              "      <td>1.0</td>\n",
              "      <td>but I know depression and drug addiction don'...</td>\n",
              "    </tr>\n",
              "    <tr>\n",
              "      <th>1792</th>\n",
              "      <td>180</td>\n",
              "      <td>1233.0</td>\n",
              "      <td>1.0</td>\n",
              "      <td>I feel a lot of deeply depressed souls have d...</td>\n",
              "    </tr>\n",
              "    <tr>\n",
              "      <th>1793</th>\n",
              "      <td>181</td>\n",
              "      <td>1234.0</td>\n",
              "      <td>1.0</td>\n",
              "      <td>anxiety and mental breakdowns...|0|0|0|</td>\n",
              "    </tr>\n",
              "    <tr>\n",
              "      <th>1794</th>\n",
              "      <td>182</td>\n",
              "      <td>1250.0</td>\n",
              "      <td>1.0</td>\n",
              "      <td>learn to deal w my anxiety</td>\n",
              "    </tr>\n",
              "  </tbody>\n",
              "</table>\n",
              "<p>1790 rows × 4 columns</p>\n",
              "</div>\n",
              "      <button class=\"colab-df-convert\" onclick=\"convertToInteractive('df-1d02aae8-3ac2-463c-b5f3-8025744da7c6')\"\n",
              "              title=\"Convert this dataframe to an interactive table.\"\n",
              "              style=\"display:none;\">\n",
              "        \n",
              "  <svg xmlns=\"http://www.w3.org/2000/svg\" height=\"24px\"viewBox=\"0 0 24 24\"\n",
              "       width=\"24px\">\n",
              "    <path d=\"M0 0h24v24H0V0z\" fill=\"none\"/>\n",
              "    <path d=\"M18.56 5.44l.94 2.06.94-2.06 2.06-.94-2.06-.94-.94-2.06-.94 2.06-2.06.94zm-11 1L8.5 8.5l.94-2.06 2.06-.94-2.06-.94L8.5 2.5l-.94 2.06-2.06.94zm10 10l.94 2.06.94-2.06 2.06-.94-2.06-.94-.94-2.06-.94 2.06-2.06.94z\"/><path d=\"M17.41 7.96l-1.37-1.37c-.4-.4-.92-.59-1.43-.59-.52 0-1.04.2-1.43.59L10.3 9.45l-7.72 7.72c-.78.78-.78 2.05 0 2.83L4 21.41c.39.39.9.59 1.41.59.51 0 1.02-.2 1.41-.59l7.78-7.78 2.81-2.81c.8-.78.8-2.07 0-2.86zM5.41 20L4 18.59l7.72-7.72 1.47 1.35L5.41 20z\"/>\n",
              "  </svg>\n",
              "      </button>\n",
              "      \n",
              "  <style>\n",
              "    .colab-df-container {\n",
              "      display:flex;\n",
              "      flex-wrap:wrap;\n",
              "      gap: 12px;\n",
              "    }\n",
              "\n",
              "    .colab-df-convert {\n",
              "      background-color: #E8F0FE;\n",
              "      border: none;\n",
              "      border-radius: 50%;\n",
              "      cursor: pointer;\n",
              "      display: none;\n",
              "      fill: #1967D2;\n",
              "      height: 32px;\n",
              "      padding: 0 0 0 0;\n",
              "      width: 32px;\n",
              "    }\n",
              "\n",
              "    .colab-df-convert:hover {\n",
              "      background-color: #E2EBFA;\n",
              "      box-shadow: 0px 1px 2px rgba(60, 64, 67, 0.3), 0px 1px 3px 1px rgba(60, 64, 67, 0.15);\n",
              "      fill: #174EA6;\n",
              "    }\n",
              "\n",
              "    [theme=dark] .colab-df-convert {\n",
              "      background-color: #3B4455;\n",
              "      fill: #D2E3FC;\n",
              "    }\n",
              "\n",
              "    [theme=dark] .colab-df-convert:hover {\n",
              "      background-color: #434B5C;\n",
              "      box-shadow: 0px 1px 3px 1px rgba(0, 0, 0, 0.15);\n",
              "      filter: drop-shadow(0px 1px 2px rgba(0, 0, 0, 0.3));\n",
              "      fill: #FFFFFF;\n",
              "    }\n",
              "  </style>\n",
              "\n",
              "      <script>\n",
              "        const buttonEl =\n",
              "          document.querySelector('#df-1d02aae8-3ac2-463c-b5f3-8025744da7c6 button.colab-df-convert');\n",
              "        buttonEl.style.display =\n",
              "          google.colab.kernel.accessAllowed ? 'block' : 'none';\n",
              "\n",
              "        async function convertToInteractive(key) {\n",
              "          const element = document.querySelector('#df-1d02aae8-3ac2-463c-b5f3-8025744da7c6');\n",
              "          const dataTable =\n",
              "            await google.colab.kernel.invokeFunction('convertToInteractive',\n",
              "                                                     [key], {});\n",
              "          if (!dataTable) return;\n",
              "\n",
              "          const docLinkHtml = 'Like what you see? Visit the ' +\n",
              "            '<a target=\"_blank\" href=https://colab.research.google.com/notebooks/data_table.ipynb>data table notebook</a>'\n",
              "            + ' to learn more about interactive tables.';\n",
              "          element.innerHTML = '';\n",
              "          dataTable['output_type'] = 'display_data';\n",
              "          await google.colab.output.renderOutput(dataTable, element);\n",
              "          const docLink = document.createElement('div');\n",
              "          docLink.innerHTML = docLinkHtml;\n",
              "          element.appendChild(docLink);\n",
              "        }\n",
              "      </script>\n",
              "    </div>\n",
              "  </div>\n",
              "  "
            ]
          },
          "metadata": {},
          "execution_count": 4
        }
      ]
    },
    {
      "cell_type": "code",
      "source": [
        "from google.colab import drive\n",
        "drive.mount('/content/drive')"
      ],
      "metadata": {
        "colab": {
          "base_uri": "https://localhost:8080/"
        },
        "id": "WvQLfxae-Ab2",
        "outputId": "be53db12-b8b2-4bc3-a318-048e8160cb74"
      },
      "execution_count": 3,
      "outputs": [
        {
          "output_type": "stream",
          "name": "stdout",
          "text": [
            "Mounted at /content/drive\n"
          ]
        }
      ]
    },
    {
      "cell_type": "code",
      "source": [
        "#create the word2number dictionary\n",
        "tokens = []\n",
        "for i in range(len(df)):\n",
        "  words = []\n",
        "  try:\n",
        "    words.extend(tokenizer(df.iloc[i][\"text\"].lower()))\n",
        "    for word in words:\n",
        "      word = word\n",
        "      tokens.append(stemmer(word))\n",
        "  except Exception as e:\n",
        "    print(df.iloc[i][\"text\"])\n",
        "\n",
        "tokens = set(tokens)"
      ],
      "metadata": {
        "colab": {
          "base_uri": "https://localhost:8080/"
        },
        "id": "zbrKAVxQbBKk",
        "outputId": "8b9682f2-7b7b-4b84-9720-6bc425103aa4"
      },
      "execution_count": 5,
      "outputs": [
        {
          "output_type": "stream",
          "name": "stdout",
          "text": [
            "nan\n",
            "nan\n",
            "nan\n",
            "nan\n",
            "nan\n"
          ]
        }
      ]
    },
    {
      "cell_type": "code",
      "source": [
        "somelist = [\" '//twitter.com/ltsharrypotter/status/984475138933579782',\", '//t.co/yacazn2t0h',\n",
        "            \"dk_mok\", '70+hour', 'much|1|0|4|', 'collection|1|0|3|',\"20\",]\n",
        "pattern = \"\"\"\\/?\\/?twitter.com/.+|\n",
        "\\/?\\/?t.co\\/?.+|  \n",
        "_|\n",
        "\\d+|\n",
        "\\|d\\|\\d\\|\\d|\n",
        "\"\"\"\n",
        "for word in somelist:\n",
        "  word = re.sub(pattern,\"\",word)\n",
        "  print(word)"
      ],
      "metadata": {
        "colab": {
          "base_uri": "https://localhost:8080/"
        },
        "id": "DrbpeNfqbZZn",
        "outputId": "abe1d85f-b247-478d-83bb-eefd971f2e06"
      },
      "execution_count": 6,
      "outputs": [
        {
          "output_type": "stream",
          "name": "stdout",
          "text": [
            " '\n",
            "//t.co/yacazn2t0h\n",
            "dk_mok\n",
            "70+hour\n",
            "much|1|0|4|\n",
            "collection|1|0|3|\n",
            "20\n"
          ]
        }
      ]
    },
    {
      "cell_type": "code",
      "source": [
        "token2index_dict = {\"OOV\":0}\n",
        "index2token_dict = {0:\"OOV\"}\n",
        "for index,token in enumerate(tokens):\n",
        "  token2index_dict[token] = index+1\n",
        "  index2token_dict[index+1] = token"
      ],
      "metadata": {
        "id": "3YagIXVaqgCo"
      },
      "execution_count": 7,
      "outputs": []
    },
    {
      "cell_type": "code",
      "source": [
        "def token2index_function(dict,sent):\n",
        "  result_sent = []\n",
        "  for token in sent.split(\" \"):\n",
        "    result_sent.append(dict.get(token,0))\n",
        "  return result_sent\n",
        "\n",
        "\n",
        "def index2token_function(dict,index):\n",
        "  return dict.get(index,\"OOV\")"
      ],
      "metadata": {
        "id": "tf4ViBifw9lI"
      },
      "execution_count": 8,
      "outputs": []
    },
    {
      "cell_type": "code",
      "source": [
        "#make the sentences same-lengthed \n",
        "#find the max length\n",
        "max_length = 0\n",
        "for sent in range(len(df)):\n",
        "  try:\n",
        "    words = nltk.word_tokenize(df.iloc[sent][\"text\"])\n",
        "  except Exception as e:\n",
        "    print(df.iloc[sent][\"text\"])\n",
        "  if len(words) > max_length:\n",
        "    max_length = len(words)"
      ],
      "metadata": {
        "id": "9GRKoCLy0W6f",
        "colab": {
          "base_uri": "https://localhost:8080/"
        },
        "outputId": "ad2fae7b-4738-4b4f-9a0f-3f9a1a4c22a8"
      },
      "execution_count": 9,
      "outputs": [
        {
          "output_type": "stream",
          "name": "stdout",
          "text": [
            "nan\n",
            "nan\n",
            "nan\n",
            "nan\n",
            "nan\n"
          ]
        }
      ]
    },
    {
      "cell_type": "code",
      "source": [
        "vector = [1,2,3,4,5,6,7,8]\n",
        "def same_lengther(vector,max_length):\n",
        "  zeros = np.zeros(max_length - len(vector))\n",
        "  vector.extend(zeros)\n",
        "  return vector"
      ],
      "metadata": {
        "id": "mTN-IxkN3KFc"
      },
      "execution_count": 10,
      "outputs": []
    },
    {
      "cell_type": "code",
      "source": [
        "#define X and y\n",
        "X = []\n",
        "y = []\n",
        "X_vector = []\n",
        "\n",
        "\n",
        "for i in range(len(df)):\n",
        "  feature = df[\"text\"].iloc[i]\n",
        "  label = int(df[\"depressed\"].iloc[i])\n",
        "\n",
        "  try:\n",
        "    feature_vector = token2index_function(token2index_dict,feature)\n",
        "    X_vector.append(same_lengther(feature_vector,max_length))\n",
        "    y.append(label)\n",
        "    X.append(feature.lower())\n",
        "  except Exception as e:\n",
        "    print(i)\n",
        "    \n"
      ],
      "metadata": {
        "colab": {
          "base_uri": "https://localhost:8080/"
        },
        "id": "tRjE5Oy_8iGO",
        "outputId": "a71b177a-3c87-434e-ed01-8d18d0be9a1c"
      },
      "execution_count": 11,
      "outputs": [
        {
          "output_type": "stream",
          "name": "stdout",
          "text": [
            "534\n",
            "727\n",
            "979\n",
            "1019\n",
            "1242\n"
          ]
        }
      ]
    },
    {
      "cell_type": "code",
      "source": [
        "X_vector = np.array(X_vector).astype(\"float32\")\n",
        "y = np.array(y).astype(\"float32\")\n",
        "\n",
        "X_vector.shape,y.shape\n",
        "y = pd.get_dummies(y)"
      ],
      "metadata": {
        "id": "Dxkx0WNI98gz"
      },
      "execution_count": 12,
      "outputs": []
    },
    {
      "cell_type": "code",
      "source": [
        "tf.random.set_seed(666)\n",
        "model1 = tf.keras.Sequential()\n",
        "model1.add(tf.keras.layers.Dense(128,activation=\"relu\"))\n",
        "model1.add(tf.keras.layers.Dense(64,activation=\"relu\"))\n",
        "model1.add(tf.keras.layers.Dense(32,activation=\"relu\"))\n",
        "model1.add(tf.keras.layers.Dense(16,activation=\"relu\"))\n",
        "model1.add(tf.keras.layers.Dense(8,activation=\"relu\"))\n",
        "model1.add(tf.keras.layers.Dense(4,activation=\"relu\"))\n",
        "model1.add(tf.keras.layers.Dense(2,activation=\"sigmoid\"))\n",
        "\n",
        "model1.compile(loss=tf.keras.losses.BinaryCrossentropy(),\n",
        "               optimizer=tf.keras.optimizers.Adam(),\n",
        "               metrics=[\"accuracy\"])\n",
        "\n",
        "model1.fit(X_vector,y,epochs=100)"
      ],
      "metadata": {
        "id": "7bq22Qhmy3Fm",
        "colab": {
          "base_uri": "https://localhost:8080/"
        },
        "outputId": "2795831e-09be-4930-9c05-8ba7b1e32c6c"
      },
      "execution_count": 13,
      "outputs": [
        {
          "output_type": "stream",
          "name": "stdout",
          "text": [
            "Epoch 1/100\n",
            "81/81 [==============================] - 2s 4ms/step - loss: 6.6711 - accuracy: 0.4947\n",
            "Epoch 2/100\n",
            "81/81 [==============================] - 0s 3ms/step - loss: 0.7375 - accuracy: 0.5014\n",
            "Epoch 3/100\n",
            "81/81 [==============================] - 0s 4ms/step - loss: 0.6951 - accuracy: 0.5002\n",
            "Epoch 4/100\n",
            "81/81 [==============================] - 0s 4ms/step - loss: 0.6939 - accuracy: 0.5014\n",
            "Epoch 5/100\n",
            "81/81 [==============================] - 0s 4ms/step - loss: 0.6935 - accuracy: 0.5006\n",
            "Epoch 6/100\n",
            "81/81 [==============================] - 0s 4ms/step - loss: 0.6929 - accuracy: 0.5010\n",
            "Epoch 7/100\n",
            "81/81 [==============================] - 0s 3ms/step - loss: 0.6928 - accuracy: 0.5021\n",
            "Epoch 8/100\n",
            "81/81 [==============================] - 0s 3ms/step - loss: 0.6925 - accuracy: 0.5029\n",
            "Epoch 9/100\n",
            "81/81 [==============================] - 0s 3ms/step - loss: 0.6925 - accuracy: 0.5029\n",
            "Epoch 10/100\n",
            "81/81 [==============================] - 0s 3ms/step - loss: 0.6924 - accuracy: 0.5025\n",
            "Epoch 11/100\n",
            "81/81 [==============================] - 0s 3ms/step - loss: 0.6925 - accuracy: 0.5025\n",
            "Epoch 12/100\n",
            "81/81 [==============================] - 0s 4ms/step - loss: 0.6925 - accuracy: 0.5025\n",
            "Epoch 13/100\n",
            "81/81 [==============================] - 1s 11ms/step - loss: 0.6923 - accuracy: 0.5025\n",
            "Epoch 14/100\n",
            "81/81 [==============================] - 0s 3ms/step - loss: 0.6923 - accuracy: 0.5029\n",
            "Epoch 15/100\n",
            "81/81 [==============================] - 0s 5ms/step - loss: 0.6924 - accuracy: 0.5033\n",
            "Epoch 16/100\n",
            "81/81 [==============================] - 1s 9ms/step - loss: 0.6925 - accuracy: 0.5021\n",
            "Epoch 17/100\n",
            "81/81 [==============================] - 0s 3ms/step - loss: 0.6931 - accuracy: 0.5014\n",
            "Epoch 18/100\n",
            "81/81 [==============================] - 0s 4ms/step - loss: 0.6928 - accuracy: 0.5021\n",
            "Epoch 19/100\n",
            "81/81 [==============================] - 0s 3ms/step - loss: 0.6923 - accuracy: 0.5029\n",
            "Epoch 20/100\n",
            "81/81 [==============================] - 0s 3ms/step - loss: 0.6923 - accuracy: 0.5025\n",
            "Epoch 21/100\n",
            "81/81 [==============================] - 0s 3ms/step - loss: 0.6922 - accuracy: 0.5025\n",
            "Epoch 22/100\n",
            "81/81 [==============================] - 0s 3ms/step - loss: 0.6922 - accuracy: 0.5029\n",
            "Epoch 23/100\n",
            "81/81 [==============================] - 0s 3ms/step - loss: 0.6922 - accuracy: 0.5025\n",
            "Epoch 24/100\n",
            "81/81 [==============================] - 0s 4ms/step - loss: 0.6924 - accuracy: 0.5025\n",
            "Epoch 25/100\n",
            "81/81 [==============================] - 0s 3ms/step - loss: 0.6923 - accuracy: 0.5025\n",
            "Epoch 26/100\n",
            "81/81 [==============================] - 0s 4ms/step - loss: 0.6924 - accuracy: 0.5025\n",
            "Epoch 27/100\n",
            "81/81 [==============================] - 0s 3ms/step - loss: 0.6924 - accuracy: 0.5025\n",
            "Epoch 28/100\n",
            "81/81 [==============================] - 0s 3ms/step - loss: 0.6923 - accuracy: 0.5025\n",
            "Epoch 29/100\n",
            "81/81 [==============================] - 0s 3ms/step - loss: 0.6923 - accuracy: 0.5025\n",
            "Epoch 30/100\n",
            "81/81 [==============================] - 0s 3ms/step - loss: 0.6922 - accuracy: 0.5025\n",
            "Epoch 31/100\n",
            "81/81 [==============================] - 0s 3ms/step - loss: 0.6922 - accuracy: 0.5025\n",
            "Epoch 32/100\n",
            "81/81 [==============================] - 0s 3ms/step - loss: 0.6941 - accuracy: 0.4756\n",
            "Epoch 33/100\n",
            "81/81 [==============================] - 0s 3ms/step - loss: 0.6945 - accuracy: 0.5029\n",
            "Epoch 34/100\n",
            "81/81 [==============================] - 0s 4ms/step - loss: 0.6929 - accuracy: 0.5014\n",
            "Epoch 35/100\n",
            "81/81 [==============================] - 0s 3ms/step - loss: 0.6929 - accuracy: 0.4897\n",
            "Epoch 36/100\n",
            "81/81 [==============================] - 0s 3ms/step - loss: 0.6929 - accuracy: 0.5014\n",
            "Epoch 37/100\n",
            "81/81 [==============================] - 0s 3ms/step - loss: 0.6929 - accuracy: 0.5014\n",
            "Epoch 38/100\n",
            "81/81 [==============================] - 0s 4ms/step - loss: 0.6929 - accuracy: 0.5014\n",
            "Epoch 39/100\n",
            "81/81 [==============================] - 0s 3ms/step - loss: 0.6929 - accuracy: 0.5014\n",
            "Epoch 40/100\n",
            "81/81 [==============================] - 0s 3ms/step - loss: 0.6929 - accuracy: 0.5014\n",
            "Epoch 41/100\n",
            "81/81 [==============================] - 0s 3ms/step - loss: 0.6929 - accuracy: 0.5014\n",
            "Epoch 42/100\n",
            "81/81 [==============================] - 0s 3ms/step - loss: 0.6929 - accuracy: 0.4885\n",
            "Epoch 43/100\n",
            "81/81 [==============================] - 0s 3ms/step - loss: 0.6929 - accuracy: 0.5014\n",
            "Epoch 44/100\n",
            "81/81 [==============================] - 0s 3ms/step - loss: 0.6929 - accuracy: 0.5014\n",
            "Epoch 45/100\n",
            "81/81 [==============================] - 0s 3ms/step - loss: 0.6929 - accuracy: 0.5014\n",
            "Epoch 46/100\n",
            "81/81 [==============================] - 0s 3ms/step - loss: 0.6929 - accuracy: 0.5014\n",
            "Epoch 47/100\n",
            "81/81 [==============================] - 0s 3ms/step - loss: 0.6929 - accuracy: 0.5014\n",
            "Epoch 48/100\n",
            "81/81 [==============================] - 0s 5ms/step - loss: 0.6929 - accuracy: 0.4979\n",
            "Epoch 49/100\n",
            "81/81 [==============================] - 1s 9ms/step - loss: 0.6929 - accuracy: 0.5014\n",
            "Epoch 50/100\n",
            "81/81 [==============================] - 0s 3ms/step - loss: 0.6929 - accuracy: 0.5014\n",
            "Epoch 51/100\n",
            "81/81 [==============================] - 0s 3ms/step - loss: 0.6929 - accuracy: 0.4943\n",
            "Epoch 52/100\n",
            "81/81 [==============================] - 0s 4ms/step - loss: 0.6929 - accuracy: 0.5014\n",
            "Epoch 53/100\n",
            "81/81 [==============================] - 0s 4ms/step - loss: 0.6929 - accuracy: 0.5014\n",
            "Epoch 54/100\n",
            "81/81 [==============================] - 0s 4ms/step - loss: 0.6929 - accuracy: 0.5014\n",
            "Epoch 55/100\n",
            "81/81 [==============================] - 0s 3ms/step - loss: 0.6929 - accuracy: 0.4881\n",
            "Epoch 56/100\n",
            "81/81 [==============================] - 0s 3ms/step - loss: 0.6929 - accuracy: 0.4803\n",
            "Epoch 57/100\n",
            "81/81 [==============================] - 0s 3ms/step - loss: 0.6929 - accuracy: 0.5014\n",
            "Epoch 58/100\n",
            "81/81 [==============================] - 0s 3ms/step - loss: 0.6929 - accuracy: 0.5014\n",
            "Epoch 59/100\n",
            "81/81 [==============================] - 0s 3ms/step - loss: 0.6929 - accuracy: 0.5014\n",
            "Epoch 60/100\n",
            "81/81 [==============================] - 0s 4ms/step - loss: 0.6929 - accuracy: 0.5014\n",
            "Epoch 61/100\n",
            "81/81 [==============================] - 0s 4ms/step - loss: 0.6929 - accuracy: 0.5014\n",
            "Epoch 62/100\n",
            "81/81 [==============================] - 0s 3ms/step - loss: 0.6929 - accuracy: 0.5014\n",
            "Epoch 63/100\n",
            "81/81 [==============================] - 0s 3ms/step - loss: 0.6929 - accuracy: 0.5014\n",
            "Epoch 64/100\n",
            "81/81 [==============================] - 0s 3ms/step - loss: 0.6929 - accuracy: 0.5014\n",
            "Epoch 65/100\n",
            "81/81 [==============================] - 0s 3ms/step - loss: 0.6929 - accuracy: 0.4815\n",
            "Epoch 66/100\n",
            "81/81 [==============================] - 0s 3ms/step - loss: 0.6929 - accuracy: 0.5014\n",
            "Epoch 67/100\n",
            "81/81 [==============================] - 0s 3ms/step - loss: 0.6929 - accuracy: 0.5014\n",
            "Epoch 68/100\n",
            "81/81 [==============================] - 0s 3ms/step - loss: 0.6929 - accuracy: 0.4904\n",
            "Epoch 69/100\n",
            "81/81 [==============================] - 0s 3ms/step - loss: 0.6929 - accuracy: 0.5014\n",
            "Epoch 70/100\n",
            "81/81 [==============================] - 0s 3ms/step - loss: 0.6929 - accuracy: 0.5014\n",
            "Epoch 71/100\n",
            "81/81 [==============================] - 0s 3ms/step - loss: 0.6929 - accuracy: 0.4776\n",
            "Epoch 72/100\n",
            "81/81 [==============================] - 0s 3ms/step - loss: 0.6929 - accuracy: 0.4819\n",
            "Epoch 73/100\n",
            "81/81 [==============================] - 0s 3ms/step - loss: 0.6929 - accuracy: 0.4998\n",
            "Epoch 74/100\n",
            "81/81 [==============================] - 0s 3ms/step - loss: 0.6929 - accuracy: 0.5014\n",
            "Epoch 75/100\n",
            "81/81 [==============================] - 0s 3ms/step - loss: 0.6929 - accuracy: 0.5014\n",
            "Epoch 76/100\n",
            "81/81 [==============================] - 0s 3ms/step - loss: 0.6929 - accuracy: 0.5014\n",
            "Epoch 77/100\n",
            "81/81 [==============================] - 0s 4ms/step - loss: 0.6929 - accuracy: 0.4951\n",
            "Epoch 78/100\n",
            "81/81 [==============================] - 0s 3ms/step - loss: 0.6929 - accuracy: 0.5014\n",
            "Epoch 79/100\n",
            "81/81 [==============================] - 0s 3ms/step - loss: 0.6929 - accuracy: 0.5014\n",
            "Epoch 80/100\n",
            "81/81 [==============================] - 0s 3ms/step - loss: 0.6929 - accuracy: 0.5014\n",
            "Epoch 81/100\n",
            "81/81 [==============================] - 0s 3ms/step - loss: 0.6929 - accuracy: 0.4830\n",
            "Epoch 82/100\n",
            "81/81 [==============================] - 0s 3ms/step - loss: 0.6929 - accuracy: 0.5014\n",
            "Epoch 83/100\n",
            "81/81 [==============================] - 0s 3ms/step - loss: 0.6929 - accuracy: 0.5014\n",
            "Epoch 84/100\n",
            "81/81 [==============================] - 0s 3ms/step - loss: 0.6929 - accuracy: 0.5014\n",
            "Epoch 85/100\n",
            "81/81 [==============================] - 0s 3ms/step - loss: 0.6929 - accuracy: 0.5014\n",
            "Epoch 86/100\n",
            "81/81 [==============================] - 0s 3ms/step - loss: 0.6929 - accuracy: 0.5014\n",
            "Epoch 87/100\n",
            "81/81 [==============================] - 0s 3ms/step - loss: 0.6929 - accuracy: 0.5014\n",
            "Epoch 88/100\n",
            "81/81 [==============================] - 0s 3ms/step - loss: 0.6929 - accuracy: 0.5014\n",
            "Epoch 89/100\n",
            "81/81 [==============================] - 0s 4ms/step - loss: 0.6929 - accuracy: 0.5014\n",
            "Epoch 90/100\n",
            "81/81 [==============================] - 0s 3ms/step - loss: 0.6929 - accuracy: 0.5014\n",
            "Epoch 91/100\n",
            "81/81 [==============================] - 0s 3ms/step - loss: 0.6930 - accuracy: 0.4842\n",
            "Epoch 92/100\n",
            "81/81 [==============================] - 0s 4ms/step - loss: 0.6929 - accuracy: 0.5014\n",
            "Epoch 93/100\n",
            "81/81 [==============================] - 0s 4ms/step - loss: 0.6929 - accuracy: 0.4838\n",
            "Epoch 94/100\n",
            "81/81 [==============================] - 0s 3ms/step - loss: 0.6929 - accuracy: 0.5014\n",
            "Epoch 95/100\n",
            "81/81 [==============================] - 0s 3ms/step - loss: 0.6929 - accuracy: 0.5014\n",
            "Epoch 96/100\n",
            "81/81 [==============================] - 0s 3ms/step - loss: 0.6929 - accuracy: 0.4912\n",
            "Epoch 97/100\n",
            "81/81 [==============================] - 0s 3ms/step - loss: 0.6929 - accuracy: 0.4858\n",
            "Epoch 98/100\n",
            "81/81 [==============================] - 0s 3ms/step - loss: 0.6929 - accuracy: 0.5014\n",
            "Epoch 99/100\n",
            "81/81 [==============================] - 0s 4ms/step - loss: 0.6930 - accuracy: 0.4823\n",
            "Epoch 100/100\n",
            "81/81 [==============================] - 0s 4ms/step - loss: 0.6929 - accuracy: 0.5014\n"
          ]
        },
        {
          "output_type": "execute_result",
          "data": {
            "text/plain": [
              "<keras.callbacks.History at 0x7fd08bf70390>"
            ]
          },
          "metadata": {},
          "execution_count": 13
        }
      ]
    },
    {
      "cell_type": "code",
      "source": [
        "y.iloc[1]"
      ],
      "metadata": {
        "colab": {
          "base_uri": "https://localhost:8080/"
        },
        "id": "3BKhvfoVKFsc",
        "outputId": "6323b3ca-1e16-4b6d-ff47-2578fad1b6a6"
      },
      "execution_count": 14,
      "outputs": [
        {
          "output_type": "execute_result",
          "data": {
            "text/plain": [
              "0.0    1\n",
              "1.0    0\n",
              "Name: 1, dtype: uint8"
            ]
          },
          "metadata": {},
          "execution_count": 14
        }
      ]
    },
    {
      "cell_type": "markdown",
      "source": [
        "\n",
        "\n",
        "---\n",
        "\n",
        "---\n",
        "\n",
        "\n",
        "\n",
        "# ***since we are getting aweful results, we geuess that our vectors are too sparse, so first we try to plot a histogram to see how many instances of different sizes we have.***\n",
        "\n",
        "---\n",
        "\n",
        "\n",
        "---\n",
        "\n",
        "\n"
      ],
      "metadata": {
        "id": "zlDXaNU0-iIa"
      }
    },
    {
      "cell_type": "code",
      "source": [
        "#get a list of the length of the sentences \n",
        "len_sentences_list = []\n",
        "for i in range(len(df)):\n",
        "  try:\n",
        "    words = nltk.word_tokenize(df[\"text\"].iloc[i])\n",
        "    len_sentences_list.append(len(words))\n",
        "  except Exception as e:\n",
        "    print(df[\"text\"].iloc[i])"
      ],
      "metadata": {
        "colab": {
          "base_uri": "https://localhost:8080/"
        },
        "id": "8wFUUO1r-hRP",
        "outputId": "ac5e67ce-7e3f-401a-ff3a-4213923071f4"
      },
      "execution_count": 15,
      "outputs": [
        {
          "output_type": "stream",
          "name": "stdout",
          "text": [
            "nan\n",
            "nan\n",
            "nan\n",
            "nan\n",
            "nan\n"
          ]
        }
      ]
    },
    {
      "cell_type": "code",
      "source": [
        "#plot the list as a histogram\n",
        "plt.hist(len_sentences_list)\n",
        "plt.show()"
      ],
      "metadata": {
        "id": "KJwlgddabDpx",
        "colab": {
          "base_uri": "https://localhost:8080/",
          "height": 265
        },
        "outputId": "54f1b92d-a7f1-478f-8212-e17930ce175e"
      },
      "execution_count": 16,
      "outputs": [
        {
          "output_type": "display_data",
          "data": {
            "text/plain": [
              "<Figure size 432x288 with 1 Axes>"
            ],
            "image/png": "[encoded data removed]"
          },
          "metadata": {
            "needs_background": "light"
          }
        }
      ]
    },
    {
      "cell_type": "markdown",
      "source": [
        "\n",
        "\n",
        "---\n",
        "\n",
        "\n",
        "\n",
        "---\n",
        "\n",
        "\n",
        "# ***as you can see, we only have under 100 sentences with the length of 40,let alone the 121...so it's better to change the padding by setting the maximum length to be around 40 so we would not have such sparse vectors***\n",
        "---\n",
        "\n",
        "\n",
        "\n",
        "---\n",
        "\n"
      ],
      "metadata": {
        "id": "NmBkz1zZAWJO"
      }
    },
    {
      "cell_type": "code",
      "source": [
        "model1_X = []\n",
        "model1_y = []\n",
        "len_sentences_list = []\n",
        "for i in range(len(X)):\n",
        "  words = nltk.word_tokenize(X[i])\n",
        "  if len(words) <= 40:\n",
        "    model1_X.append(X[i])\n",
        "    len_sentences_list.append(len(words))\n",
        "    model1_y.append(y.iloc[i])"
      ],
      "metadata": {
        "id": "X44ccJiRAQGD"
      },
      "execution_count": 25,
      "outputs": []
    },
    {
      "cell_type": "code",
      "source": [
        "#let's replot the histogram to see what happened\n",
        "plt.hist(len_sentences_list)\n",
        "plt.show()"
      ],
      "metadata": {
        "colab": {
          "base_uri": "https://localhost:8080/",
          "height": 265
        },
        "id": "r8CNTkt4CFLa",
        "outputId": "6574958a-6ec7-4b36-d7bd-3cdb15578589"
      },
      "execution_count": 18,
      "outputs": [
        {
          "output_type": "display_data",
          "data": {
            "text/plain": [
              "<Figure size 432x288 with 1 Axes>"
            ],
            "image/png": "[encoded data removed]"
          },
          "metadata": {
            "needs_background": "light"
          }
        }
      ]
    },
    {
      "cell_type": "markdown",
      "source": [
        "\n",
        "---\n",
        "\n",
        "\n",
        "---\n",
        "\n",
        "# ***That looks better***\n",
        "\n",
        "\n",
        "\n",
        "---\n",
        "\n",
        "\n",
        "\n",
        "---\n",
        "\n"
      ],
      "metadata": {
        "id": "FkniBA6LCyqt"
      }
    },
    {
      "cell_type": "code",
      "source": [
        "model1_X_vectors = []\n",
        "for sentence in model1_X:\n",
        "  index_tokens = token2index_function(token2index_dict,sentence)\n",
        "  model1_X_vectors.append(np.array(same_lengther(index_tokens,40)))  \n",
        "model1_X_vectors = np.array(model1_X_vectors)\n",
        "model1_y = np.array(model1_y).astype(\"float32\")\n",
        "# model1_y = pd.get_dummies(model1_y)"
      ],
      "metadata": {
        "id": "iE7we3PJCj2L"
      },
      "execution_count": 40,
      "outputs": []
    },
    {
      "cell_type": "code",
      "source": [
        "model1_X_vectors[0].shape,model1_y[0].shape"
      ],
      "metadata": {
        "colab": {
          "base_uri": "https://localhost:8080/"
        },
        "id": "7sWIR9RZD3rn",
        "outputId": "f0e78a70-2c17-4c69-ac61-d3a278424ba5"
      },
      "execution_count": 39,
      "outputs": [
        {
          "output_type": "execute_result",
          "data": {
            "text/plain": [
              "((40,), (2,))"
            ]
          },
          "metadata": {},
          "execution_count": 39
        }
      ]
    },
    {
      "cell_type": "code",
      "source": [
        "tf.random.set_seed(666)\n",
        "model1 = tf.keras.Sequential()\n",
        "model1.add(tf.keras.layers.Dense(128,activation=\"relu\"))\n",
        "model1.add(tf.keras.layers.Dense(64,activation=\"relu\"))\n",
        "model1.add(tf.keras.layers.Dense(32,activation=\"relu\"))\n",
        "model1.add(tf.keras.layers.Dense(16,activation=\"relu\"))\n",
        "model1.add(tf.keras.layers.Dense(8,activation=\"relu\"))\n",
        "model1.add(tf.keras.layers.Dense(4,activation=\"relu\"))\n",
        "model1.add(tf.keras.layers.Dense(2,activation=\"sigmoid\"))\n",
        "\n",
        "model1.compile(loss=tf.keras.losses.BinaryCrossentropy(),\n",
        "               optimizer=tf.keras.optimizers.Adam(),\n",
        "               metrics=[\"accuracy\"])\n",
        "\n",
        "model1.fit(model1_X_vectors,model1_y,epochs=100)"
      ],
      "metadata": {
        "colab": {
          "base_uri": "https://localhost:8080/"
        },
        "id": "1xaV6AIeEuWn",
        "outputId": "85539516-48b6-42bf-81f9-24ac6dfae7bd"
      },
      "execution_count": 41,
      "outputs": [
        {
          "output_type": "stream",
          "name": "stdout",
          "text": [
            "Epoch 1/100\n",
            "79/79 [==============================] - 1s 3ms/step - loss: 9.5692 - accuracy: 0.5012\n",
            "Epoch 2/100\n",
            "79/79 [==============================] - 0s 3ms/step - loss: 0.8211 - accuracy: 0.5190\n",
            "Epoch 3/100\n",
            "79/79 [==============================] - 0s 3ms/step - loss: 0.6936 - accuracy: 0.5238\n",
            "Epoch 4/100\n",
            "79/79 [==============================] - 0s 3ms/step - loss: 0.6896 - accuracy: 0.5230\n",
            "Epoch 5/100\n",
            "79/79 [==============================] - 0s 3ms/step - loss: 0.6891 - accuracy: 0.5269\n",
            "Epoch 6/100\n",
            "79/79 [==============================] - 0s 3ms/step - loss: 0.6830 - accuracy: 0.5313\n",
            "Epoch 7/100\n",
            "79/79 [==============================] - 0s 3ms/step - loss: 0.6833 - accuracy: 0.5313\n",
            "Epoch 8/100\n",
            "79/79 [==============================] - 0s 3ms/step - loss: 0.6824 - accuracy: 0.5340\n",
            "Epoch 9/100\n",
            "79/79 [==============================] - 0s 3ms/step - loss: 0.6814 - accuracy: 0.5360\n",
            "Epoch 10/100\n",
            "79/79 [==============================] - 0s 3ms/step - loss: 0.6807 - accuracy: 0.5352\n",
            "Epoch 11/100\n",
            "79/79 [==============================] - 0s 3ms/step - loss: 0.6797 - accuracy: 0.5329\n",
            "Epoch 12/100\n",
            "79/79 [==============================] - 0s 3ms/step - loss: 0.6828 - accuracy: 0.5337\n",
            "Epoch 13/100\n",
            "79/79 [==============================] - 0s 3ms/step - loss: 0.6816 - accuracy: 0.5352\n",
            "Epoch 14/100\n",
            "79/79 [==============================] - 0s 3ms/step - loss: 0.6872 - accuracy: 0.5344\n",
            "Epoch 15/100\n",
            "79/79 [==============================] - 0s 3ms/step - loss: 0.6910 - accuracy: 0.5412\n",
            "Epoch 16/100\n",
            "79/79 [==============================] - 0s 3ms/step - loss: 0.6828 - accuracy: 0.5301\n",
            "Epoch 17/100\n",
            "79/79 [==============================] - 0s 3ms/step - loss: 0.6822 - accuracy: 0.5396\n",
            "Epoch 18/100\n",
            "79/79 [==============================] - 0s 3ms/step - loss: 0.6854 - accuracy: 0.5356\n",
            "Epoch 19/100\n",
            "79/79 [==============================] - 0s 3ms/step - loss: 0.6834 - accuracy: 0.5404\n",
            "Epoch 20/100\n",
            "79/79 [==============================] - 0s 3ms/step - loss: 0.6798 - accuracy: 0.5392\n",
            "Epoch 21/100\n",
            "79/79 [==============================] - 0s 3ms/step - loss: 0.6864 - accuracy: 0.5408\n",
            "Epoch 22/100\n",
            "79/79 [==============================] - 0s 3ms/step - loss: 0.6851 - accuracy: 0.5317\n",
            "Epoch 23/100\n",
            "79/79 [==============================] - 0s 3ms/step - loss: 0.6801 - accuracy: 0.5424\n",
            "Epoch 24/100\n",
            "79/79 [==============================] - 0s 3ms/step - loss: 0.6761 - accuracy: 0.5432\n",
            "Epoch 25/100\n",
            "79/79 [==============================] - 0s 3ms/step - loss: 0.6814 - accuracy: 0.5368\n",
            "Epoch 26/100\n",
            "79/79 [==============================] - 0s 3ms/step - loss: 0.6797 - accuracy: 0.5384\n",
            "Epoch 27/100\n",
            "79/79 [==============================] - 0s 3ms/step - loss: 0.6778 - accuracy: 0.5435\n",
            "Epoch 28/100\n",
            "79/79 [==============================] - 0s 3ms/step - loss: 0.6783 - accuracy: 0.5432\n",
            "Epoch 29/100\n",
            "79/79 [==============================] - 0s 3ms/step - loss: 0.6893 - accuracy: 0.5210\n",
            "Epoch 30/100\n",
            "79/79 [==============================] - 0s 4ms/step - loss: 0.6920 - accuracy: 0.5067\n",
            "Epoch 31/100\n",
            "79/79 [==============================] - 0s 4ms/step - loss: 0.6847 - accuracy: 0.5238\n",
            "Epoch 32/100\n",
            "79/79 [==============================] - 0s 3ms/step - loss: 0.6829 - accuracy: 0.5376\n",
            "Epoch 33/100\n",
            "79/79 [==============================] - 0s 3ms/step - loss: 0.6826 - accuracy: 0.5348\n",
            "Epoch 34/100\n",
            "79/79 [==============================] - 0s 3ms/step - loss: 0.6858 - accuracy: 0.5230\n",
            "Epoch 35/100\n",
            "79/79 [==============================] - 0s 3ms/step - loss: 0.6862 - accuracy: 0.5245\n",
            "Epoch 36/100\n",
            "79/79 [==============================] - 0s 3ms/step - loss: 0.6903 - accuracy: 0.5261\n",
            "Epoch 37/100\n",
            "79/79 [==============================] - 0s 3ms/step - loss: 0.6883 - accuracy: 0.5186\n",
            "Epoch 38/100\n",
            "79/79 [==============================] - 0s 3ms/step - loss: 0.6881 - accuracy: 0.5198\n",
            "Epoch 39/100\n",
            "79/79 [==============================] - 0s 3ms/step - loss: 0.6845 - accuracy: 0.5277\n",
            "Epoch 40/100\n",
            "79/79 [==============================] - 0s 3ms/step - loss: 0.6900 - accuracy: 0.5238\n",
            "Epoch 41/100\n",
            "79/79 [==============================] - 0s 3ms/step - loss: 0.6992 - accuracy: 0.5036\n",
            "Epoch 42/100\n",
            "79/79 [==============================] - 0s 3ms/step - loss: 0.6928 - accuracy: 0.5051\n",
            "Epoch 43/100\n",
            "79/79 [==============================] - 0s 3ms/step - loss: 0.6923 - accuracy: 0.5051\n",
            "Epoch 44/100\n",
            "79/79 [==============================] - 0s 3ms/step - loss: 0.6943 - accuracy: 0.5051\n",
            "Epoch 45/100\n",
            "79/79 [==============================] - 0s 3ms/step - loss: 0.6926 - accuracy: 0.5048\n",
            "Epoch 46/100\n",
            "79/79 [==============================] - 0s 3ms/step - loss: 0.6926 - accuracy: 0.5044\n",
            "Epoch 47/100\n",
            "79/79 [==============================] - 0s 3ms/step - loss: 0.6927 - accuracy: 0.5048\n",
            "Epoch 48/100\n",
            "79/79 [==============================] - 0s 3ms/step - loss: 0.6926 - accuracy: 0.5048\n",
            "Epoch 49/100\n",
            "79/79 [==============================] - 0s 3ms/step - loss: 0.6925 - accuracy: 0.5048\n",
            "Epoch 50/100\n",
            "79/79 [==============================] - 0s 3ms/step - loss: 0.6925 - accuracy: 0.5048\n",
            "Epoch 51/100\n",
            "79/79 [==============================] - 0s 3ms/step - loss: 0.6925 - accuracy: 0.5048\n",
            "Epoch 52/100\n",
            "79/79 [==============================] - 0s 3ms/step - loss: 0.6924 - accuracy: 0.5048\n",
            "Epoch 53/100\n",
            "79/79 [==============================] - 0s 3ms/step - loss: 0.6924 - accuracy: 0.5048\n",
            "Epoch 54/100\n",
            "79/79 [==============================] - 0s 3ms/step - loss: 0.6924 - accuracy: 0.5048\n",
            "Epoch 55/100\n",
            "79/79 [==============================] - 0s 3ms/step - loss: 0.6924 - accuracy: 0.5048\n",
            "Epoch 56/100\n",
            "79/79 [==============================] - 0s 3ms/step - loss: 0.6932 - accuracy: 0.5032\n",
            "Epoch 57/100\n",
            "79/79 [==============================] - 0s 3ms/step - loss: 0.6931 - accuracy: 0.5036\n",
            "Epoch 58/100\n",
            "79/79 [==============================] - 0s 3ms/step - loss: 0.6932 - accuracy: 0.5036\n",
            "Epoch 59/100\n",
            "79/79 [==============================] - 0s 3ms/step - loss: 0.6931 - accuracy: 0.5036\n",
            "Epoch 60/100\n",
            "79/79 [==============================] - 0s 3ms/step - loss: 0.6932 - accuracy: 0.5036\n",
            "Epoch 61/100\n",
            "79/79 [==============================] - 0s 3ms/step - loss: 0.6932 - accuracy: 0.5036\n",
            "Epoch 62/100\n",
            "79/79 [==============================] - 0s 3ms/step - loss: 0.6932 - accuracy: 0.5036\n",
            "Epoch 63/100\n",
            "79/79 [==============================] - 0s 3ms/step - loss: 0.6931 - accuracy: 0.5036\n",
            "Epoch 64/100\n",
            "79/79 [==============================] - 0s 3ms/step - loss: 0.6931 - accuracy: 0.5036\n",
            "Epoch 65/100\n",
            "79/79 [==============================] - 0s 3ms/step - loss: 0.6932 - accuracy: 0.5036\n",
            "Epoch 66/100\n",
            "79/79 [==============================] - 0s 3ms/step - loss: 0.6931 - accuracy: 0.5036\n",
            "Epoch 67/100\n",
            "79/79 [==============================] - 0s 3ms/step - loss: 0.6931 - accuracy: 0.5036\n",
            "Epoch 68/100\n",
            "79/79 [==============================] - 0s 3ms/step - loss: 0.6932 - accuracy: 0.5036\n",
            "Epoch 69/100\n",
            "79/79 [==============================] - 0s 3ms/step - loss: 0.6932 - accuracy: 0.5036\n",
            "Epoch 70/100\n",
            "79/79 [==============================] - 0s 3ms/step - loss: 0.6931 - accuracy: 0.5036\n",
            "Epoch 71/100\n",
            "79/79 [==============================] - 0s 3ms/step - loss: 0.6932 - accuracy: 0.5036\n",
            "Epoch 72/100\n",
            "79/79 [==============================] - 0s 3ms/step - loss: 0.6931 - accuracy: 0.5036\n",
            "Epoch 73/100\n",
            "79/79 [==============================] - 0s 3ms/step - loss: 0.6931 - accuracy: 0.5036\n",
            "Epoch 74/100\n",
            "79/79 [==============================] - 0s 3ms/step - loss: 0.6931 - accuracy: 0.5036\n",
            "Epoch 75/100\n",
            "79/79 [==============================] - 0s 3ms/step - loss: 0.6931 - accuracy: 0.5036\n",
            "Epoch 76/100\n",
            "79/79 [==============================] - 0s 3ms/step - loss: 0.6932 - accuracy: 0.5036\n",
            "Epoch 77/100\n",
            "79/79 [==============================] - 0s 3ms/step - loss: 0.6932 - accuracy: 0.5036\n",
            "Epoch 78/100\n",
            "79/79 [==============================] - 0s 3ms/step - loss: 0.6932 - accuracy: 0.5036\n",
            "Epoch 79/100\n",
            "79/79 [==============================] - 0s 3ms/step - loss: 0.6931 - accuracy: 0.5036\n",
            "Epoch 80/100\n",
            "79/79 [==============================] - 0s 3ms/step - loss: 0.6932 - accuracy: 0.5036\n",
            "Epoch 81/100\n",
            "79/79 [==============================] - 0s 3ms/step - loss: 0.6932 - accuracy: 0.5036\n",
            "Epoch 82/100\n",
            "79/79 [==============================] - 0s 3ms/step - loss: 0.6931 - accuracy: 0.5036\n",
            "Epoch 83/100\n",
            "79/79 [==============================] - 0s 3ms/step - loss: 0.6931 - accuracy: 0.5036\n",
            "Epoch 84/100\n",
            "79/79 [==============================] - 0s 3ms/step - loss: 0.6932 - accuracy: 0.5036\n",
            "Epoch 85/100\n",
            "79/79 [==============================] - 0s 3ms/step - loss: 0.6932 - accuracy: 0.5036\n",
            "Epoch 86/100\n",
            "79/79 [==============================] - 0s 3ms/step - loss: 0.6931 - accuracy: 0.5036\n",
            "Epoch 87/100\n",
            "79/79 [==============================] - 0s 3ms/step - loss: 0.6931 - accuracy: 0.5036\n",
            "Epoch 88/100\n",
            "79/79 [==============================] - 0s 3ms/step - loss: 0.6931 - accuracy: 0.5036\n",
            "Epoch 89/100\n",
            "79/79 [==============================] - 0s 3ms/step - loss: 0.6932 - accuracy: 0.5036\n",
            "Epoch 90/100\n",
            "79/79 [==============================] - 0s 3ms/step - loss: 0.6932 - accuracy: 0.5036\n",
            "Epoch 91/100\n",
            "79/79 [==============================] - 0s 3ms/step - loss: 0.6932 - accuracy: 0.5036\n",
            "Epoch 92/100\n",
            "79/79 [==============================] - 0s 3ms/step - loss: 0.6932 - accuracy: 0.5036\n",
            "Epoch 93/100\n",
            "79/79 [==============================] - 0s 3ms/step - loss: 0.6931 - accuracy: 0.5036\n",
            "Epoch 94/100\n",
            "79/79 [==============================] - 0s 3ms/step - loss: 0.6931 - accuracy: 0.5036\n",
            "Epoch 95/100\n",
            "79/79 [==============================] - 0s 3ms/step - loss: 0.6932 - accuracy: 0.5036\n",
            "Epoch 96/100\n",
            "79/79 [==============================] - 0s 3ms/step - loss: 0.6931 - accuracy: 0.5036\n",
            "Epoch 97/100\n",
            "79/79 [==============================] - 0s 3ms/step - loss: 0.6931 - accuracy: 0.5036\n",
            "Epoch 98/100\n",
            "79/79 [==============================] - 0s 3ms/step - loss: 0.6931 - accuracy: 0.5036\n",
            "Epoch 99/100\n",
            "79/79 [==============================] - 0s 3ms/step - loss: 0.6932 - accuracy: 0.5036\n",
            "Epoch 100/100\n",
            "79/79 [==============================] - 0s 3ms/step - loss: 0.6932 - accuracy: 0.5036\n"
          ]
        },
        {
          "output_type": "execute_result",
          "data": {
            "text/plain": [
              "<keras.callbacks.History at 0x7fd083079f90>"
            ]
          },
          "metadata": {},
          "execution_count": 41
        }
      ]
    },
    {
      "cell_type": "markdown",
      "source": [
        "# ***As you can see,we still get unsatisfactory results, so we try to change our representation of the words. We are going to use another mothod that works with word probabilities.***"
      ],
      "metadata": {
        "id": "FGm62iQ2ASsX"
      }
    },
    {
      "cell_type": "code",
      "source": [
        "#get the list of all words\n",
        "negative_sentences_words = []\n",
        "positive_sentences_words = []\n",
        "for instance in range(len(df)):\n",
        "  itsclass = df.iloc[instance][\"depressed\"]\n",
        "  try:\n",
        "    if itsclass == 0:\n",
        "      negative_sentences_words.extend(tokenizer(df.iloc[instance][\"text\"]))  \n",
        "    elif itsclass == 1:\n",
        "      positive_sentences_words.extend(tokenizer(df.iloc[instance][\"text\"]))  \n",
        "  except Exception as e:\n",
        "    print(\"error\")"
      ],
      "metadata": {
        "colab": {
          "base_uri": "https://localhost:8080/"
        },
        "id": "WclrGV-fAj0O",
        "outputId": "843b947a-7a74-4ad6-da2f-3cab62ce4c86"
      },
      "execution_count": 48,
      "outputs": [
        {
          "output_type": "stream",
          "name": "stdout",
          "text": [
            "error\n",
            "error\n",
            "error\n",
            "error\n",
            "error\n"
          ]
        }
      ]
    },
    {
      "cell_type": "code",
      "source": [],
      "metadata": {
        "id": "Q3bqF-fkCq95"
      },
      "execution_count": null,
      "outputs": []
    }
  ]
}