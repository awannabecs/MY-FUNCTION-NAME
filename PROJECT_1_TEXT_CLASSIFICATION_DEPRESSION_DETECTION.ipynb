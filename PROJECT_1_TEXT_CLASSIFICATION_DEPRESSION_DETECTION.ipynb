{
  "nbformat": 4,
  "nbformat_minor": 0,
  "metadata": {
    "colab": {
      "name": "PROJECT_1_TEXT_CLASSIFICATION_DEPRESSION_DETECTION.ipynb",
      "provenance": [],
      "collapsed_sections": [],
      "mount_file_id": "1AfMChGKAGypx0jZHb1w8Rk4TKW18_IqJ",
      "authorship_tag": "ABX9TyNRS3C4y1p+QaqjbsNlXhje",
      "include_colab_link": true
    },
    "kernelspec": {
      "name": "python3",
      "display_name": "Python 3"
    },
    "language_info": {
      "name": "python"
    }
  },
  "cells": [
    {
      "cell_type": "markdown",
      "metadata": {
        "id": "view-in-github",
        "colab_type": "text"
      },
      "source": [
        "<a href=\"https://colab.research.google.com/github/awannabecs/MY-FUNCTION-NAME/blob/main/PROJECT_1_TEXT_CLASSIFICATION_DEPRESSION_DETECTION.ipynb\" target=\"_parent\"><img src=\"https://colab.research.google.com/assets/colab-badge.svg\" alt=\"Open In Colab\"/></a>"
      ]
    },
    {
      "cell_type": "code",
      "execution_count": 1,
      "metadata": {
        "colab": {
          "base_uri": "https://localhost:8080/",
          "height": 71
        },
        "id": "f22i0WcfXOdv",
        "outputId": "02082f56-c284-423a-ef86-a6a7c5e4ca2d"
      },
      "outputs": [
        {
          "output_type": "stream",
          "name": "stderr",
          "text": [
            "[nltk_data] Downloading package punkt to /root/nltk_data...\n",
            "[nltk_data]   Unzipping tokenizers/punkt.zip.\n"
          ]
        },
        {
          "output_type": "execute_result",
          "data": {
            "text/plain": [
              "'play'"
            ],
            "application/vnd.google.colaboratory.intrinsic+json": {
              "type": "string"
            }
          },
          "metadata": {},
          "execution_count": 1
        }
      ],
      "source": [
        "#import the libraries \n",
        "import numpy as  np\n",
        "import pandas as pd \n",
        "import tensorflow as tf\n",
        "import nltk \n",
        "import re\n",
        "nltk.download(\"punkt\")\n",
        "tokenizer = nltk.word_tokenize\n",
        "tokenizer(\"go out\")\n",
        "stemmer = nltk.PorterStemmer().stem\n",
        "stemmer(\"played\")"
      ]
    },
    {
      "cell_type": "code",
      "source": [
        "#import the dataset\n",
        "df = pd.read_csv(\"/content/drive/MyDrive/MAIN_DATA\")\n",
        "df.dropna(inplace=False)"
      ],
      "metadata": {
        "id": "fxtuuIv5X611",
        "colab": {
          "base_uri": "https://localhost:8080/",
          "height": 424
        },
        "outputId": "bbf7810c-0f1f-4805-f2cc-337e439a1a0e"
      },
      "execution_count": 2,
      "outputs": [
        {
          "output_type": "execute_result",
          "data": {
            "text/plain": [
              "      Unnamed: 0  Unnamed: 0.1  depressed  \\\n",
              "0              0           0.0        0.0   \n",
              "1              1           1.0        0.0   \n",
              "2              2           2.0        1.0   \n",
              "3              3           3.0        1.0   \n",
              "4              4           4.0        0.0   \n",
              "...          ...           ...        ...   \n",
              "1790         178        1210.0        1.0   \n",
              "1791         179        1212.0        1.0   \n",
              "1792         180        1233.0        1.0   \n",
              "1793         181        1234.0        1.0   \n",
              "1794         182        1250.0        1.0   \n",
              "\n",
              "                                                   text  \n",
              "0                 I know where you're coming from mate.  \n",
              "1                           I felt like this last year.  \n",
              "2     I remember around this time last year, i was h...  \n",
              "3     i was heavily addicted to meth, it was literal...  \n",
              "4     I worked like 70+hours in a warehouse job, 2 h...  \n",
              "...                                                 ...  \n",
              "1790                                  hate shattered me  \n",
              "1791   but I know depression and drug addiction don'...  \n",
              "1792   I feel a lot of deeply depressed souls have d...  \n",
              "1793            anxiety and mental breakdowns...|0|0|0|  \n",
              "1794                         learn to deal w my anxiety  \n",
              "\n",
              "[1790 rows x 4 columns]"
            ],
            "text/html": [
              "\n",
              "  <div id=\"df-8d93dabc-22bf-498b-8d6b-cb58ddcdbb95\">\n",
              "    <div class=\"colab-df-container\">\n",
              "      <div>\n",
              "<style scoped>\n",
              "    .dataframe tbody tr th:only-of-type {\n",
              "        vertical-align: middle;\n",
              "    }\n",
              "\n",
              "    .dataframe tbody tr th {\n",
              "        vertical-align: top;\n",
              "    }\n",
              "\n",
              "    .dataframe thead th {\n",
              "        text-align: right;\n",
              "    }\n",
              "</style>\n",
              "<table border=\"1\" class=\"dataframe\">\n",
              "  <thead>\n",
              "    <tr style=\"text-align: right;\">\n",
              "      <th></th>\n",
              "      <th>Unnamed: 0</th>\n",
              "      <th>Unnamed: 0.1</th>\n",
              "      <th>depressed</th>\n",
              "      <th>text</th>\n",
              "    </tr>\n",
              "  </thead>\n",
              "  <tbody>\n",
              "    <tr>\n",
              "      <th>0</th>\n",
              "      <td>0</td>\n",
              "      <td>0.0</td>\n",
              "      <td>0.0</td>\n",
              "      <td>I know where you're coming from mate.</td>\n",
              "    </tr>\n",
              "    <tr>\n",
              "      <th>1</th>\n",
              "      <td>1</td>\n",
              "      <td>1.0</td>\n",
              "      <td>0.0</td>\n",
              "      <td>I felt like this last year.</td>\n",
              "    </tr>\n",
              "    <tr>\n",
              "      <th>2</th>\n",
              "      <td>2</td>\n",
              "      <td>2.0</td>\n",
              "      <td>1.0</td>\n",
              "      <td>I remember around this time last year, i was h...</td>\n",
              "    </tr>\n",
              "    <tr>\n",
              "      <th>3</th>\n",
              "      <td>3</td>\n",
              "      <td>3.0</td>\n",
              "      <td>1.0</td>\n",
              "      <td>i was heavily addicted to meth, it was literal...</td>\n",
              "    </tr>\n",
              "    <tr>\n",
              "      <th>4</th>\n",
              "      <td>4</td>\n",
              "      <td>4.0</td>\n",
              "      <td>0.0</td>\n",
              "      <td>I worked like 70+hours in a warehouse job, 2 h...</td>\n",
              "    </tr>\n",
              "    <tr>\n",
              "      <th>...</th>\n",
              "      <td>...</td>\n",
              "      <td>...</td>\n",
              "      <td>...</td>\n",
              "      <td>...</td>\n",
              "    </tr>\n",
              "    <tr>\n",
              "      <th>1790</th>\n",
              "      <td>178</td>\n",
              "      <td>1210.0</td>\n",
              "      <td>1.0</td>\n",
              "      <td>hate shattered me</td>\n",
              "    </tr>\n",
              "    <tr>\n",
              "      <th>1791</th>\n",
              "      <td>179</td>\n",
              "      <td>1212.0</td>\n",
              "      <td>1.0</td>\n",
              "      <td>but I know depression and drug addiction don'...</td>\n",
              "    </tr>\n",
              "    <tr>\n",
              "      <th>1792</th>\n",
              "      <td>180</td>\n",
              "      <td>1233.0</td>\n",
              "      <td>1.0</td>\n",
              "      <td>I feel a lot of deeply depressed souls have d...</td>\n",
              "    </tr>\n",
              "    <tr>\n",
              "      <th>1793</th>\n",
              "      <td>181</td>\n",
              "      <td>1234.0</td>\n",
              "      <td>1.0</td>\n",
              "      <td>anxiety and mental breakdowns...|0|0|0|</td>\n",
              "    </tr>\n",
              "    <tr>\n",
              "      <th>1794</th>\n",
              "      <td>182</td>\n",
              "      <td>1250.0</td>\n",
              "      <td>1.0</td>\n",
              "      <td>learn to deal w my anxiety</td>\n",
              "    </tr>\n",
              "  </tbody>\n",
              "</table>\n",
              "<p>1790 rows × 4 columns</p>\n",
              "</div>\n",
              "      <button class=\"colab-df-convert\" onclick=\"convertToInteractive('df-8d93dabc-22bf-498b-8d6b-cb58ddcdbb95')\"\n",
              "              title=\"Convert this dataframe to an interactive table.\"\n",
              "              style=\"display:none;\">\n",
              "        \n",
              "  <svg xmlns=\"http://www.w3.org/2000/svg\" height=\"24px\"viewBox=\"0 0 24 24\"\n",
              "       width=\"24px\">\n",
              "    <path d=\"M0 0h24v24H0V0z\" fill=\"none\"/>\n",
              "    <path d=\"M18.56 5.44l.94 2.06.94-2.06 2.06-.94-2.06-.94-.94-2.06-.94 2.06-2.06.94zm-11 1L8.5 8.5l.94-2.06 2.06-.94-2.06-.94L8.5 2.5l-.94 2.06-2.06.94zm10 10l.94 2.06.94-2.06 2.06-.94-2.06-.94-.94-2.06-.94 2.06-2.06.94z\"/><path d=\"M17.41 7.96l-1.37-1.37c-.4-.4-.92-.59-1.43-.59-.52 0-1.04.2-1.43.59L10.3 9.45l-7.72 7.72c-.78.78-.78 2.05 0 2.83L4 21.41c.39.39.9.59 1.41.59.51 0 1.02-.2 1.41-.59l7.78-7.78 2.81-2.81c.8-.78.8-2.07 0-2.86zM5.41 20L4 18.59l7.72-7.72 1.47 1.35L5.41 20z\"/>\n",
              "  </svg>\n",
              "      </button>\n",
              "      \n",
              "  <style>\n",
              "    .colab-df-container {\n",
              "      display:flex;\n",
              "      flex-wrap:wrap;\n",
              "      gap: 12px;\n",
              "    }\n",
              "\n",
              "    .colab-df-convert {\n",
              "      background-color: #E8F0FE;\n",
              "      border: none;\n",
              "      border-radius: 50%;\n",
              "      cursor: pointer;\n",
              "      display: none;\n",
              "      fill: #1967D2;\n",
              "      height: 32px;\n",
              "      padding: 0 0 0 0;\n",
              "      width: 32px;\n",
              "    }\n",
              "\n",
              "    .colab-df-convert:hover {\n",
              "      background-color: #E2EBFA;\n",
              "      box-shadow: 0px 1px 2px rgba(60, 64, 67, 0.3), 0px 1px 3px 1px rgba(60, 64, 67, 0.15);\n",
              "      fill: #174EA6;\n",
              "    }\n",
              "\n",
              "    [theme=dark] .colab-df-convert {\n",
              "      background-color: #3B4455;\n",
              "      fill: #D2E3FC;\n",
              "    }\n",
              "\n",
              "    [theme=dark] .colab-df-convert:hover {\n",
              "      background-color: #434B5C;\n",
              "      box-shadow: 0px 1px 3px 1px rgba(0, 0, 0, 0.15);\n",
              "      filter: drop-shadow(0px 1px 2px rgba(0, 0, 0, 0.3));\n",
              "      fill: #FFFFFF;\n",
              "    }\n",
              "  </style>\n",
              "\n",
              "      <script>\n",
              "        const buttonEl =\n",
              "          document.querySelector('#df-8d93dabc-22bf-498b-8d6b-cb58ddcdbb95 button.colab-df-convert');\n",
              "        buttonEl.style.display =\n",
              "          google.colab.kernel.accessAllowed ? 'block' : 'none';\n",
              "\n",
              "        async function convertToInteractive(key) {\n",
              "          const element = document.querySelector('#df-8d93dabc-22bf-498b-8d6b-cb58ddcdbb95');\n",
              "          const dataTable =\n",
              "            await google.colab.kernel.invokeFunction('convertToInteractive',\n",
              "                                                     [key], {});\n",
              "          if (!dataTable) return;\n",
              "\n",
              "          const docLinkHtml = 'Like what you see? Visit the ' +\n",
              "            '<a target=\"_blank\" href=https://colab.research.google.com/notebooks/data_table.ipynb>data table notebook</a>'\n",
              "            + ' to learn more about interactive tables.';\n",
              "          element.innerHTML = '';\n",
              "          dataTable['output_type'] = 'display_data';\n",
              "          await google.colab.output.renderOutput(dataTable, element);\n",
              "          const docLink = document.createElement('div');\n",
              "          docLink.innerHTML = docLinkHtml;\n",
              "          element.appendChild(docLink);\n",
              "        }\n",
              "      </script>\n",
              "    </div>\n",
              "  </div>\n",
              "  "
            ]
          },
          "metadata": {},
          "execution_count": 2
        }
      ]
    },
    {
      "cell_type": "code",
      "source": [
        "#create the word2number dictionary\n",
        "tokens = []\n",
        "for i in range(len(df)):\n",
        "  words = []\n",
        "  try:\n",
        "    words.extend(tokenizer(df.iloc[i][\"text\"].lower()))\n",
        "    for word in words:\n",
        "      word = word\n",
        "      tokens.append(stemmer(word))\n",
        "  except Exception as e:\n",
        "    print(df.iloc[i][\"text\"])\n",
        "\n",
        "tokens = set(tokens)"
      ],
      "metadata": {
        "colab": {
          "base_uri": "https://localhost:8080/"
        },
        "id": "zbrKAVxQbBKk",
        "outputId": "88173917-faee-40b3-aec7-fba32038bfa6"
      },
      "execution_count": 3,
      "outputs": [
        {
          "output_type": "stream",
          "name": "stdout",
          "text": [
            "nan\n",
            "nan\n",
            "nan\n",
            "nan\n",
            "nan\n"
          ]
        }
      ]
    },
    {
      "cell_type": "code",
      "source": [
        "somelist = [\" '//twitter.com/ltsharrypotter/status/984475138933579782',\", '//t.co/yacazn2t0h',\n",
        "            \"dk_mok\", '70+hour', 'much|1|0|4|', 'collection|1|0|3|',\"20\",]\n",
        "pattern = \"\"\"\\/?\\/?twitter.com/.+|\n",
        "\\/?\\/?t.co\\/?.+|  \n",
        "_|\n",
        "\\d+|\n",
        "\\|d\\|\\d\\|\\d|\n",
        "\"\"\"\n",
        "for word in somelist:\n",
        "  word = re.sub(pattern,\"\",word)\n",
        "  print(word)"
      ],
      "metadata": {
        "colab": {
          "base_uri": "https://localhost:8080/"
        },
        "id": "DrbpeNfqbZZn",
        "outputId": "fba775f4-3a67-468a-dd61-f8b875f92125"
      },
      "execution_count": 4,
      "outputs": [
        {
          "output_type": "stream",
          "name": "stdout",
          "text": [
            " '\n",
            "//t.co/yacazn2t0h\n",
            "dk_mok\n",
            "70+hour\n",
            "much|1|0|4|\n",
            "collection|1|0|3|\n",
            "20\n"
          ]
        }
      ]
    },
    {
      "cell_type": "code",
      "source": [
        "token2index_dict = {\"OOV\":0}\n",
        "index2token_dict = {0:\"OOV\"}\n",
        "for index,token in enumerate(tokens):\n",
        "  token2index_dict[token] = index+1\n",
        "  index2token_dict[index+1] = token"
      ],
      "metadata": {
        "id": "3YagIXVaqgCo"
      },
      "execution_count": 5,
      "outputs": []
    },
    {
      "cell_type": "code",
      "source": [
        "def token2index_function(dict,sent):\n",
        "  result_sent = []\n",
        "  for token in sent.split(\" \"):\n",
        "    result_sent.append(dict.get(token,0))\n",
        "  return result_sent\n",
        "\n",
        "\n",
        "def index2token_function(dict,index):\n",
        "  return dict.get(index,\"OOV\")"
      ],
      "metadata": {
        "id": "tf4ViBifw9lI"
      },
      "execution_count": 6,
      "outputs": []
    },
    {
      "cell_type": "code",
      "source": [
        "#make the sentences same-lengthed \n",
        "#find the max length\n",
        "max_length = 0\n",
        "for sent in range(len(df)):\n",
        "  try:\n",
        "    words = nltk.word_tokenize(df.iloc[sent][\"text\"])\n",
        "  except Exception as e:\n",
        "    print(df.iloc[sent][\"text\"])\n",
        "  if len(words) > max_length:\n",
        "    max_length = len(words)"
      ],
      "metadata": {
        "id": "9GRKoCLy0W6f",
        "colab": {
          "base_uri": "https://localhost:8080/"
        },
        "outputId": "222e6ef0-3931-4b26-8d61-051caf7ae1d8"
      },
      "execution_count": 7,
      "outputs": [
        {
          "output_type": "stream",
          "name": "stdout",
          "text": [
            "nan\n",
            "nan\n",
            "nan\n",
            "nan\n",
            "nan\n"
          ]
        }
      ]
    },
    {
      "cell_type": "code",
      "source": [
        "vector = [1,2,3,4,5,6,7,8]\n",
        "def same_lengther(vector,max_length):\n",
        "  zeros = np.zeros(max_length - len(vector))\n",
        "  vector.extend(zeros)\n",
        "  return vector"
      ],
      "metadata": {
        "id": "mTN-IxkN3KFc"
      },
      "execution_count": 8,
      "outputs": []
    },
    {
      "cell_type": "code",
      "source": [
        "#define X and y\n",
        "X = []\n",
        "y = []\n",
        "X_vector = []\n",
        "\n",
        "\n",
        "for i in range(len(df)):\n",
        "  feature = df[\"text\"].iloc[i]\n",
        "  label = int(df[\"depressed\"].iloc[i])\n",
        "\n",
        "  try:\n",
        "    feature_vector = token2index_function(token2index_dict,feature)\n",
        "    X_vector.append(same_lengther(feature_vector,max_length))\n",
        "    y.append(label)\n",
        "    X.append(feature)\n",
        "  except Exception as e:\n",
        "    print(i)\n",
        "    \n"
      ],
      "metadata": {
        "colab": {
          "base_uri": "https://localhost:8080/"
        },
        "id": "tRjE5Oy_8iGO",
        "outputId": "ae4e36a5-2387-4e9a-fa1f-9ac490c02d27"
      },
      "execution_count": 9,
      "outputs": [
        {
          "output_type": "stream",
          "name": "stdout",
          "text": [
            "534\n",
            "727\n",
            "979\n",
            "1019\n",
            "1242\n"
          ]
        }
      ]
    },
    {
      "cell_type": "code",
      "source": [
        "y = np.array(y).reshape(-1,1)\n",
        "X_vector = np.array(X_vector)\n",
        "\n",
        "new_X_vector = []\n",
        "new_y = []\n",
        "for i in range(len(y)):\n",
        "  new_X_vector.append(X_vector[i].reshape(-1,1))\n",
        "  new_y.append(y[i].reshape(-1,1))\n",
        "\n",
        "new_X_vector = np.array(new_X_vector)\n",
        "new_y = np.array(new_y)"
      ],
      "metadata": {
        "id": "Dxkx0WNI98gz"
      },
      "execution_count": 75,
      "outputs": []
    },
    {
      "cell_type": "code",
      "source": [
        "# new_X_vector = np.squeeze(new_X_vector)\n",
        "# new_X_vector[0].shape\n",
        "new_y.shape,new_y[0].shape,new_X_vector.shape,new_X_vector[0].shape"
      ],
      "metadata": {
        "colab": {
          "base_uri": "https://localhost:8080/"
        },
        "id": "fk2fBcFji6hl",
        "outputId": "e591576e-a599-40c1-ef59-a6afa56a6be5"
      },
      "execution_count": 76,
      "outputs": [
        {
          "output_type": "execute_result",
          "data": {
            "text/plain": [
              "((2565, 1, 1), (1, 1), (2565, 121, 1), (121, 1))"
            ]
          },
          "metadata": {},
          "execution_count": 76
        }
      ]
    },
    {
      "cell_type": "code",
      "source": [
        "tf.random.set_seed(666)\n",
        "model1 = tf.keras.Sequential()\n",
        "model1.add(tf.keras.layers.Dense(1,activation=\"relu\"))\n",
        "model1.add(tf.keras.layers.Dense(1,activation=\"relu\"))\n",
        "model1.add(tf.keras.layers.Dense(1,activation=\"relu\"))\n",
        "model1.add(tf.keras.layers.Dense(2,activation=\"sigmoid\"))\n",
        "\n",
        "model1.compile(loss=tf.keras.losses.binary_focal_crossentropy,\n",
        "               optimizer=tf.keras.optimizers.Adam(),\n",
        "               metrics=[\"accuracy\"])\n",
        "\n",
        "model1.fit(X_vector,y,epochs=5)"
      ],
      "metadata": {
        "id": "7bq22Qhmy3Fm",
        "colab": {
          "base_uri": "https://localhost:8080/",
          "height": 799
        },
        "outputId": "c7aee5c2-50b7-4b94-d8e0-f65bf9b91ffa"
      },
      "execution_count": 77,
      "outputs": [
        {
          "output_type": "stream",
          "name": "stdout",
          "text": [
            "Epoch 1/5\n"
          ]
        },
        {
          "output_type": "error",
          "ename": "ValueError",
          "evalue": "ignored",
          "traceback": [
            "\u001b[0;31m---------------------------------------------------------------------------\u001b[0m",
            "\u001b[0;31mValueError\u001b[0m                                Traceback (most recent call last)",
            "\u001b[0;32m<ipython-input-77-2e241b398337>\u001b[0m in \u001b[0;36m<module>\u001b[0;34m()\u001b[0m\n\u001b[1;32m     10\u001b[0m                metrics=[\"accuracy\"])\n\u001b[1;32m     11\u001b[0m \u001b[0;34m\u001b[0m\u001b[0m\n\u001b[0;32m---> 12\u001b[0;31m \u001b[0mmodel1\u001b[0m\u001b[0;34m.\u001b[0m\u001b[0mfit\u001b[0m\u001b[0;34m(\u001b[0m\u001b[0mX_vector\u001b[0m\u001b[0;34m,\u001b[0m\u001b[0my\u001b[0m\u001b[0;34m,\u001b[0m\u001b[0mepochs\u001b[0m\u001b[0;34m=\u001b[0m\u001b[0;36m5\u001b[0m\u001b[0;34m)\u001b[0m\u001b[0;34m\u001b[0m\u001b[0;34m\u001b[0m\u001b[0m\n\u001b[0m",
            "\u001b[0;32m/usr/local/lib/python3.7/dist-packages/keras/utils/traceback_utils.py\u001b[0m in \u001b[0;36merror_handler\u001b[0;34m(*args, **kwargs)\u001b[0m\n\u001b[1;32m     65\u001b[0m     \u001b[0;32mexcept\u001b[0m \u001b[0mException\u001b[0m \u001b[0;32mas\u001b[0m \u001b[0me\u001b[0m\u001b[0;34m:\u001b[0m  \u001b[0;31m# pylint: disable=broad-except\u001b[0m\u001b[0;34m\u001b[0m\u001b[0;34m\u001b[0m\u001b[0m\n\u001b[1;32m     66\u001b[0m       \u001b[0mfiltered_tb\u001b[0m \u001b[0;34m=\u001b[0m \u001b[0m_process_traceback_frames\u001b[0m\u001b[0;34m(\u001b[0m\u001b[0me\u001b[0m\u001b[0;34m.\u001b[0m\u001b[0m__traceback__\u001b[0m\u001b[0;34m)\u001b[0m\u001b[0;34m\u001b[0m\u001b[0;34m\u001b[0m\u001b[0m\n\u001b[0;32m---> 67\u001b[0;31m       \u001b[0;32mraise\u001b[0m \u001b[0me\u001b[0m\u001b[0;34m.\u001b[0m\u001b[0mwith_traceback\u001b[0m\u001b[0;34m(\u001b[0m\u001b[0mfiltered_tb\u001b[0m\u001b[0;34m)\u001b[0m \u001b[0;32mfrom\u001b[0m \u001b[0;32mNone\u001b[0m\u001b[0;34m\u001b[0m\u001b[0;34m\u001b[0m\u001b[0m\n\u001b[0m\u001b[1;32m     68\u001b[0m     \u001b[0;32mfinally\u001b[0m\u001b[0;34m:\u001b[0m\u001b[0;34m\u001b[0m\u001b[0;34m\u001b[0m\u001b[0m\n\u001b[1;32m     69\u001b[0m       \u001b[0;32mdel\u001b[0m \u001b[0mfiltered_tb\u001b[0m\u001b[0;34m\u001b[0m\u001b[0;34m\u001b[0m\u001b[0m\n",
            "\u001b[0;32m/usr/local/lib/python3.7/dist-packages/tensorflow/python/framework/func_graph.py\u001b[0m in \u001b[0;36mautograph_handler\u001b[0;34m(*args, **kwargs)\u001b[0m\n\u001b[1;32m   1145\u001b[0m           \u001b[0;32mexcept\u001b[0m \u001b[0mException\u001b[0m \u001b[0;32mas\u001b[0m \u001b[0me\u001b[0m\u001b[0;34m:\u001b[0m  \u001b[0;31m# pylint:disable=broad-except\u001b[0m\u001b[0;34m\u001b[0m\u001b[0;34m\u001b[0m\u001b[0m\n\u001b[1;32m   1146\u001b[0m             \u001b[0;32mif\u001b[0m \u001b[0mhasattr\u001b[0m\u001b[0;34m(\u001b[0m\u001b[0me\u001b[0m\u001b[0;34m,\u001b[0m \u001b[0;34m\"ag_error_metadata\"\u001b[0m\u001b[0;34m)\u001b[0m\u001b[0;34m:\u001b[0m\u001b[0;34m\u001b[0m\u001b[0;34m\u001b[0m\u001b[0m\n\u001b[0;32m-> 1147\u001b[0;31m               \u001b[0;32mraise\u001b[0m \u001b[0me\u001b[0m\u001b[0;34m.\u001b[0m\u001b[0mag_error_metadata\u001b[0m\u001b[0;34m.\u001b[0m\u001b[0mto_exception\u001b[0m\u001b[0;34m(\u001b[0m\u001b[0me\u001b[0m\u001b[0;34m)\u001b[0m\u001b[0;34m\u001b[0m\u001b[0;34m\u001b[0m\u001b[0m\n\u001b[0m\u001b[1;32m   1148\u001b[0m             \u001b[0;32melse\u001b[0m\u001b[0;34m:\u001b[0m\u001b[0;34m\u001b[0m\u001b[0;34m\u001b[0m\u001b[0m\n\u001b[1;32m   1149\u001b[0m               \u001b[0;32mraise\u001b[0m\u001b[0;34m\u001b[0m\u001b[0;34m\u001b[0m\u001b[0m\n",
            "\u001b[0;31mValueError\u001b[0m: in user code:\n\n    File \"/usr/local/lib/python3.7/dist-packages/keras/engine/training.py\", line 1021, in train_function  *\n        return step_function(self, iterator)\n    File \"/usr/local/lib/python3.7/dist-packages/keras/engine/training.py\", line 1010, in step_function  **\n        outputs = model.distribute_strategy.run(run_step, args=(data,))\n    File \"/usr/local/lib/python3.7/dist-packages/keras/engine/training.py\", line 1000, in run_step  **\n        outputs = model.train_step(data)\n    File \"/usr/local/lib/python3.7/dist-packages/keras/engine/training.py\", line 860, in train_step\n        loss = self.compute_loss(x, y, y_pred, sample_weight)\n    File \"/usr/local/lib/python3.7/dist-packages/keras/engine/training.py\", line 919, in compute_loss\n        y, y_pred, sample_weight, regularization_losses=self.losses)\n    File \"/usr/local/lib/python3.7/dist-packages/keras/engine/compile_utils.py\", line 201, in __call__\n        loss_value = loss_obj(y_t, y_p, sample_weight=sw)\n    File \"/usr/local/lib/python3.7/dist-packages/keras/losses.py\", line 141, in __call__\n        losses = call_fn(y_true, y_pred)\n    File \"/usr/local/lib/python3.7/dist-packages/keras/losses.py\", line 245, in call  **\n        return ag_fn(y_true, y_pred, **self._fn_kwargs)\n    File \"/usr/local/lib/python3.7/dist-packages/keras/losses.py\", line 2033, in binary_focal_crossentropy\n        from_logits=from_logits,\n    File \"/usr/local/lib/python3.7/dist-packages/keras/backend.py\", line 5310, in binary_focal_crossentropy\n        from_logits=from_logits,\n    File \"/usr/local/lib/python3.7/dist-packages/keras/backend.py\", line 5247, in binary_crossentropy\n        return tf.nn.sigmoid_cross_entropy_with_logits(labels=target, logits=output)\n\n    ValueError: `logits` and `labels` must have the same shape, received ((None, 2) vs (None, 1)).\n"
          ]
        }
      ]
    },
    {
      "cell_type": "code",
      "source": [
        ""
      ],
      "metadata": {
        "id": "KJwlgddabDpx"
      },
      "execution_count": null,
      "outputs": []
    }
  ]
}